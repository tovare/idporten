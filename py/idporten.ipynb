{
 "cells": [
  {
   "cell_type": "markdown",
   "metadata": {},
   "source": [
    "En undersøkelse av lengre historikk hos idporten basert på idportens API for åpne data.\n",
    "=======================================================================================\n",
    "\n",
    "formålet med rapporten er å synliggjøre utviklingen de siste årene.\n",
    "\n",
    "## Kilde og kvalitet:\n",
    "\n",
    "NAV har i en periode fra 2018 til mai 2019 brukt to foirskjellige organisasjonsnummer mot\n",
    "idporten, derfor må tall fra to kall sammenstilles. Tallene er kvalitetssikret mot \n",
    "raporter idporten har publisert tidligere år..\n",
    "\n",
    "Basert på innlogginger_idporten av Paul Bencze og undersøkelser av Mona Terning.\n",
    "\n",
    "Tov Are Jacobsen 2020"
   ]
  },
  {
   "cell_type": "code",
   "execution_count": 1,
   "metadata": {},
   "outputs": [],
   "source": [
    "import pandas as pd\n",
    "from pandas import json_normalize\n",
    "import time"
   ]
  },
  {
   "cell_type": "markdown",
   "metadata": {},
   "source": [
    "\n",
    "## Innhenting av data fra API hos statistikk-utdata.difi.no\n"
   ]
  },
  {
   "cell_type": "code",
   "execution_count": 2,
   "metadata": {},
   "outputs": [],
   "source": [
    "METODER_INNLOGGING = ['Commfides', 'eIDAS','MinID OTC','MinID PIN','MinID','BuyPass', 'BankID mobil','BankID','MinID passport']"
   ]
  },
  {
   "cell_type": "code",
   "execution_count": 3,
   "metadata": {},
   "outputs": [
    {
     "output_type": "execute_result",
     "data": {
      "text/plain": [
       "                   timestamp  \\\n",
       "79 2020-01-01 00:00:00+00:00   \n",
       "80 2020-02-01 00:00:00+00:00   \n",
       "81 2020-03-01 00:00:00+00:00   \n",
       "82 2020-04-01 00:00:00+00:00   \n",
       "83 2020-05-01 00:00:00+00:00   \n",
       "\n",
       "                                         measurements  \\\n",
       "79  {'MinID passport': 0, 'Commfides': 60, 'eIDAS'...   \n",
       "80  {'MinID passport': 0, 'Commfides': 64, 'eIDAS'...   \n",
       "81  {'MinID passport': 0, 'Commfides': 85, 'eIDAS'...   \n",
       "82  {'MinID passport': 0, 'Commfides': 51, 'eIDAS'...   \n",
       "83  {'MinID passport': 0, 'Commfides': 37, 'eIDAS'...   \n",
       "\n",
       "                    categories  MinID passport  Commfides  eIDAS  MinID  \\\n",
       "79  {'TE-orgnum': '889640782'}               0         60      0      0   \n",
       "80  {'TE-orgnum': '889640782'}               0         64      0      0   \n",
       "81  {'TE-orgnum': '889640782'}               0         85      0      0   \n",
       "82  {'TE-orgnum': '889640782'}               0         51      0      0   \n",
       "83  {'TE-orgnum': '889640782'}               0         37      0      0   \n",
       "\n",
       "    Buypass passport  BankID mobil  MinID OTC    Antall  BuyPass  MinID PIN  \\\n",
       "79                 0        823650      37397  11358750    11150       2622   \n",
       "80                 0        714184      23604   9406796     8702       1412   \n",
       "81                 0       1234656      69809  22651273    14891       2527   \n",
       "82                 0        739925      37035  14907286    10958       1913   \n",
       "83                 0        523915      24696  10763326     8501       1168   \n",
       "\n",
       "    Federated  BankID        date    date_dt      sum  \n",
       "79    9757980  725891  2020-01-01 2020-01-01  1600770  \n",
       "80    8109883  548947  2020-02-01 2020-02-01  1296913  \n",
       "81   20343740  985565  2020-03-01 2020-03-01  2307533  \n",
       "82   13523168  594236  2020-04-01 2020-04-01  1384118  \n",
       "83    9786235  418774  2020-05-01 2020-05-01   977091  "
      ],
      "text/html": "<div>\n<style scoped>\n    .dataframe tbody tr th:only-of-type {\n        vertical-align: middle;\n    }\n\n    .dataframe tbody tr th {\n        vertical-align: top;\n    }\n\n    .dataframe thead th {\n        text-align: right;\n    }\n</style>\n<table border=\"1\" class=\"dataframe\">\n  <thead>\n    <tr style=\"text-align: right;\">\n      <th></th>\n      <th>timestamp</th>\n      <th>measurements</th>\n      <th>categories</th>\n      <th>MinID passport</th>\n      <th>Commfides</th>\n      <th>eIDAS</th>\n      <th>MinID</th>\n      <th>Buypass passport</th>\n      <th>BankID mobil</th>\n      <th>MinID OTC</th>\n      <th>Antall</th>\n      <th>BuyPass</th>\n      <th>MinID PIN</th>\n      <th>Federated</th>\n      <th>BankID</th>\n      <th>date</th>\n      <th>date_dt</th>\n      <th>sum</th>\n    </tr>\n  </thead>\n  <tbody>\n    <tr>\n      <th>79</th>\n      <td>2020-01-01 00:00:00+00:00</td>\n      <td>{'MinID passport': 0, 'Commfides': 60, 'eIDAS'...</td>\n      <td>{'TE-orgnum': '889640782'}</td>\n      <td>0</td>\n      <td>60</td>\n      <td>0</td>\n      <td>0</td>\n      <td>0</td>\n      <td>823650</td>\n      <td>37397</td>\n      <td>11358750</td>\n      <td>11150</td>\n      <td>2622</td>\n      <td>9757980</td>\n      <td>725891</td>\n      <td>2020-01-01</td>\n      <td>2020-01-01</td>\n      <td>1600770</td>\n    </tr>\n    <tr>\n      <th>80</th>\n      <td>2020-02-01 00:00:00+00:00</td>\n      <td>{'MinID passport': 0, 'Commfides': 64, 'eIDAS'...</td>\n      <td>{'TE-orgnum': '889640782'}</td>\n      <td>0</td>\n      <td>64</td>\n      <td>0</td>\n      <td>0</td>\n      <td>0</td>\n      <td>714184</td>\n      <td>23604</td>\n      <td>9406796</td>\n      <td>8702</td>\n      <td>1412</td>\n      <td>8109883</td>\n      <td>548947</td>\n      <td>2020-02-01</td>\n      <td>2020-02-01</td>\n      <td>1296913</td>\n    </tr>\n    <tr>\n      <th>81</th>\n      <td>2020-03-01 00:00:00+00:00</td>\n      <td>{'MinID passport': 0, 'Commfides': 85, 'eIDAS'...</td>\n      <td>{'TE-orgnum': '889640782'}</td>\n      <td>0</td>\n      <td>85</td>\n      <td>0</td>\n      <td>0</td>\n      <td>0</td>\n      <td>1234656</td>\n      <td>69809</td>\n      <td>22651273</td>\n      <td>14891</td>\n      <td>2527</td>\n      <td>20343740</td>\n      <td>985565</td>\n      <td>2020-03-01</td>\n      <td>2020-03-01</td>\n      <td>2307533</td>\n    </tr>\n    <tr>\n      <th>82</th>\n      <td>2020-04-01 00:00:00+00:00</td>\n      <td>{'MinID passport': 0, 'Commfides': 51, 'eIDAS'...</td>\n      <td>{'TE-orgnum': '889640782'}</td>\n      <td>0</td>\n      <td>51</td>\n      <td>0</td>\n      <td>0</td>\n      <td>0</td>\n      <td>739925</td>\n      <td>37035</td>\n      <td>14907286</td>\n      <td>10958</td>\n      <td>1913</td>\n      <td>13523168</td>\n      <td>594236</td>\n      <td>2020-04-01</td>\n      <td>2020-04-01</td>\n      <td>1384118</td>\n    </tr>\n    <tr>\n      <th>83</th>\n      <td>2020-05-01 00:00:00+00:00</td>\n      <td>{'MinID passport': 0, 'Commfides': 37, 'eIDAS'...</td>\n      <td>{'TE-orgnum': '889640782'}</td>\n      <td>0</td>\n      <td>37</td>\n      <td>0</td>\n      <td>0</td>\n      <td>0</td>\n      <td>523915</td>\n      <td>24696</td>\n      <td>10763326</td>\n      <td>8501</td>\n      <td>1168</td>\n      <td>9786235</td>\n      <td>418774</td>\n      <td>2020-05-01</td>\n      <td>2020-05-01</td>\n      <td>977091</td>\n    </tr>\n  </tbody>\n</table>\n</div>"
     },
     "metadata": {},
     "execution_count": 3
    }
   ],
   "source": [
    "url2 = \"https://statistikk-utdata.difi.no/991825827/idporten-innlogging/hours/sum/months?from=2010-05-01T00:00:00Z&to=2020-05-31T23:59:59Z&categories=TE-orgnum=889640782\"\n",
    "source2 = pd.read_json(url2)\n",
    "source2\n",
    "df2 = source2.join(json_normalize(source2['measurements']))\n",
    "df2['date'] = df2['timestamp'].dt.date\n",
    "df2['date_dt'] = pd.to_datetime(df2['date'])\n",
    "df2['sum'] = df2['Commfides'] + df2['eIDAS'] + df2['MinID OTC'] + df2['MinID PIN'] + df2['MinID'] + df2['MinID'] +df2['BuyPass'] +df2['BankID mobil'] +df2['BankID']\n",
    "df2.iloc[-5:] "
   ]
  },
  {
   "cell_type": "code",
   "execution_count": 4,
   "metadata": {},
   "outputs": [
    {
     "output_type": "execute_result",
     "data": {
      "text/plain": [
       "                  timestamp  \\\n",
       "0 2018-01-01 00:00:00+00:00   \n",
       "1 2019-01-01 00:00:00+00:00   \n",
       "2 2020-01-01 00:00:00+00:00   \n",
       "\n",
       "                                        measurements  \\\n",
       "0  {'MinID passport': 0, 'Commfides': 12, 'Buypas...   \n",
       "1  {'MinID passport': 0, 'Commfides': 1623, 'Buyp...   \n",
       "2  {'MinID passport': 0, 'Commfides': 2000, 'Buyp...   \n",
       "\n",
       "                   categories  MinID passport  Commfides  Buypass passport  \\\n",
       "0  {'TE-orgnum': '990983291'}               0         12                 0   \n",
       "1  {'TE-orgnum': '990983291'}               0       1623                 0   \n",
       "2  {'TE-orgnum': '990983291'}               0       2000                 0   \n",
       "\n",
       "   eIDAS  MinID  BankID mobil  MinID OTC    Antall  BuyPass  MinID PIN  \\\n",
       "0      0      0         34439       2942   4240200      566         82   \n",
       "1      0      0       7231861     820307  35048664   186656      47728   \n",
       "2      0      0       8371695     823286  26773844   233058      51235   \n",
       "\n",
       "   Federated   BankID        date    date_dt       sum  \n",
       "0    4168157    34002  2018-01-01 2018-01-01     72043  \n",
       "1   17397653  9362836  2019-01-01 2019-01-01  17651011  \n",
       "2    7974499  9318071  2020-01-01 2020-01-01  18799345  "
      ],
      "text/html": "<div>\n<style scoped>\n    .dataframe tbody tr th:only-of-type {\n        vertical-align: middle;\n    }\n\n    .dataframe tbody tr th {\n        vertical-align: top;\n    }\n\n    .dataframe thead th {\n        text-align: right;\n    }\n</style>\n<table border=\"1\" class=\"dataframe\">\n  <thead>\n    <tr style=\"text-align: right;\">\n      <th></th>\n      <th>timestamp</th>\n      <th>measurements</th>\n      <th>categories</th>\n      <th>MinID passport</th>\n      <th>Commfides</th>\n      <th>Buypass passport</th>\n      <th>eIDAS</th>\n      <th>MinID</th>\n      <th>BankID mobil</th>\n      <th>MinID OTC</th>\n      <th>Antall</th>\n      <th>BuyPass</th>\n      <th>MinID PIN</th>\n      <th>Federated</th>\n      <th>BankID</th>\n      <th>date</th>\n      <th>date_dt</th>\n      <th>sum</th>\n    </tr>\n  </thead>\n  <tbody>\n    <tr>\n      <th>0</th>\n      <td>2018-01-01 00:00:00+00:00</td>\n      <td>{'MinID passport': 0, 'Commfides': 12, 'Buypas...</td>\n      <td>{'TE-orgnum': '990983291'}</td>\n      <td>0</td>\n      <td>12</td>\n      <td>0</td>\n      <td>0</td>\n      <td>0</td>\n      <td>34439</td>\n      <td>2942</td>\n      <td>4240200</td>\n      <td>566</td>\n      <td>82</td>\n      <td>4168157</td>\n      <td>34002</td>\n      <td>2018-01-01</td>\n      <td>2018-01-01</td>\n      <td>72043</td>\n    </tr>\n    <tr>\n      <th>1</th>\n      <td>2019-01-01 00:00:00+00:00</td>\n      <td>{'MinID passport': 0, 'Commfides': 1623, 'Buyp...</td>\n      <td>{'TE-orgnum': '990983291'}</td>\n      <td>0</td>\n      <td>1623</td>\n      <td>0</td>\n      <td>0</td>\n      <td>0</td>\n      <td>7231861</td>\n      <td>820307</td>\n      <td>35048664</td>\n      <td>186656</td>\n      <td>47728</td>\n      <td>17397653</td>\n      <td>9362836</td>\n      <td>2019-01-01</td>\n      <td>2019-01-01</td>\n      <td>17651011</td>\n    </tr>\n    <tr>\n      <th>2</th>\n      <td>2020-01-01 00:00:00+00:00</td>\n      <td>{'MinID passport': 0, 'Commfides': 2000, 'Buyp...</td>\n      <td>{'TE-orgnum': '990983291'}</td>\n      <td>0</td>\n      <td>2000</td>\n      <td>0</td>\n      <td>0</td>\n      <td>0</td>\n      <td>8371695</td>\n      <td>823286</td>\n      <td>26773844</td>\n      <td>233058</td>\n      <td>51235</td>\n      <td>7974499</td>\n      <td>9318071</td>\n      <td>2020-01-01</td>\n      <td>2020-01-01</td>\n      <td>18799345</td>\n    </tr>\n  </tbody>\n</table>\n</div>"
     },
     "metadata": {},
     "execution_count": 4
    }
   ],
   "source": [
    "# Hent tallkilde 1 fra april 2018 til mai 2020 (Deler av volumet)\n",
    "\n",
    "# TODO: Sett endedato dynamisk, husk ISO med Z på slutten\n",
    "\n",
    "url = \"https://statistikk-utdata.difi.no/991825827/idporten-innlogging/hours/sum/years?from=2010-05-01T00:00:00Z&to=2020-05-31T23:59:59Z&categories=TE-orgnum=990983291\"\n",
    "source = pd.read_json(url)\n",
    "df = source.join(json_normalize(source['measurements']))\n",
    "df['date'] = df['timestamp'].dt.date\n",
    "df['date_dt'] = pd.to_datetime(df['date'])\n",
    "\n",
    "sum = 0\n",
    "for c in METODER_INNLOGGING:\n",
    "    sum += df[c]\n",
    "df['sum'] = sum\n",
    "df"
   ]
  },
  {
   "cell_type": "code",
   "execution_count": 5,
   "metadata": {},
   "outputs": [],
   "source": [
    "#\n",
    "# Tallkilde 2 (fra 2013 - 2020, kun deler fra april 2018 - mai 2020)\n",
    "#\n",
    "\n",
    "url2 = \"https://statistikk-utdata.difi.no/991825827/idporten-innlogging/hours/sum/years?from=2010-05-01T00:00:00Z&to=2020-08-31T23:59:59Z&categories=TE-orgnum=889640782\"\n",
    "source2 = pd.read_json(url2)\n",
    "df2 = source2.join(json_normalize(source2['measurements']))\n",
    "df2['date'] = df2['timestamp'].dt.date\n",
    "df2['date_dt'] = pd.to_datetime(df2['date'])\n",
    "\n",
    "sum = 0\n",
    "for c in METODER_INNLOGGING:\n",
    "    sum += df2[c]\n",
    "df2['sum'] = sum"
   ]
  },
  {
   "cell_type": "code",
   "execution_count": 6,
   "metadata": {},
   "outputs": [],
   "source": [
    "#\n",
    "# Dataseriene er ikke like lange så jeg kjører en union av de begge og summer.\n",
    "#\n",
    "\n",
    "df_begge = pd.merge(df,df2,on='date_dt', how='outer')\n",
    "df_begge.fillna(0, inplace=True)\n",
    "\n",
    "for c in METODER_INNLOGGING + ['sum']:\n",
    "    df_begge[c] = df_begge[c+\"_x\"] +  df_begge[c+\"_y\"]\n"
   ]
  },
  {
   "cell_type": "code",
   "execution_count": 7,
   "metadata": {},
   "outputs": [],
   "source": [
    "data = df_begge[['date_dt']+METODER_INNLOGGING+['sum'] ]\n",
    "data\n",
    "data.to_csv(\"innlogginger_sum_aar.csv\", sep=\";\",index=False)\n"
   ]
  },
  {
   "cell_type": "code",
   "execution_count": 8,
   "metadata": {},
   "outputs": [
    {
     "output_type": "display_data",
     "data": {
      "application/vnd.plotly.v1+json": {
       "config": {
        "plotlyServerURL": "https://plot.ly"
       },
       "data": [
        {
         "orientation": "v",
         "type": "bar",
         "x": [
          "2018-01-01T00:00:00",
          "2019-01-01T00:00:00",
          "2020-01-01T00:00:00",
          "2013-01-01T00:00:00",
          "2014-01-01T00:00:00",
          "2015-01-01T00:00:00",
          "2016-01-01T00:00:00",
          "2017-01-01T00:00:00"
         ],
         "y": [
          37832440,
          41244682,
          36514453,
          2598670,
          14783062,
          19207023,
          25215243,
          31404566
         ]
        }
       ],
       "layout": {
        "template": {
         "data": {
          "bar": [
           {
            "error_x": {
             "color": "#2a3f5f"
            },
            "error_y": {
             "color": "#2a3f5f"
            },
            "marker": {
             "line": {
              "color": "white",
              "width": 0.5
             }
            },
            "type": "bar"
           }
          ],
          "barpolar": [
           {
            "marker": {
             "line": {
              "color": "white",
              "width": 0.5
             }
            },
            "type": "barpolar"
           }
          ],
          "carpet": [
           {
            "aaxis": {
             "endlinecolor": "#2a3f5f",
             "gridcolor": "#C8D4E3",
             "linecolor": "#C8D4E3",
             "minorgridcolor": "#C8D4E3",
             "startlinecolor": "#2a3f5f"
            },
            "baxis": {
             "endlinecolor": "#2a3f5f",
             "gridcolor": "#C8D4E3",
             "linecolor": "#C8D4E3",
             "minorgridcolor": "#C8D4E3",
             "startlinecolor": "#2a3f5f"
            },
            "type": "carpet"
           }
          ],
          "choropleth": [
           {
            "colorbar": {
             "outlinewidth": 0,
             "ticks": ""
            },
            "type": "choropleth"
           }
          ],
          "contour": [
           {
            "colorbar": {
             "outlinewidth": 0,
             "ticks": ""
            },
            "colorscale": [
             [
              0,
              "#0d0887"
             ],
             [
              0.1111111111111111,
              "#46039f"
             ],
             [
              0.2222222222222222,
              "#7201a8"
             ],
             [
              0.3333333333333333,
              "#9c179e"
             ],
             [
              0.4444444444444444,
              "#bd3786"
             ],
             [
              0.5555555555555556,
              "#d8576b"
             ],
             [
              0.6666666666666666,
              "#ed7953"
             ],
             [
              0.7777777777777778,
              "#fb9f3a"
             ],
             [
              0.8888888888888888,
              "#fdca26"
             ],
             [
              1,
              "#f0f921"
             ]
            ],
            "type": "contour"
           }
          ],
          "contourcarpet": [
           {
            "colorbar": {
             "outlinewidth": 0,
             "ticks": ""
            },
            "type": "contourcarpet"
           }
          ],
          "heatmap": [
           {
            "colorbar": {
             "outlinewidth": 0,
             "ticks": ""
            },
            "colorscale": [
             [
              0,
              "#0d0887"
             ],
             [
              0.1111111111111111,
              "#46039f"
             ],
             [
              0.2222222222222222,
              "#7201a8"
             ],
             [
              0.3333333333333333,
              "#9c179e"
             ],
             [
              0.4444444444444444,
              "#bd3786"
             ],
             [
              0.5555555555555556,
              "#d8576b"
             ],
             [
              0.6666666666666666,
              "#ed7953"
             ],
             [
              0.7777777777777778,
              "#fb9f3a"
             ],
             [
              0.8888888888888888,
              "#fdca26"
             ],
             [
              1,
              "#f0f921"
             ]
            ],
            "type": "heatmap"
           }
          ],
          "heatmapgl": [
           {
            "colorbar": {
             "outlinewidth": 0,
             "ticks": ""
            },
            "colorscale": [
             [
              0,
              "#0d0887"
             ],
             [
              0.1111111111111111,
              "#46039f"
             ],
             [
              0.2222222222222222,
              "#7201a8"
             ],
             [
              0.3333333333333333,
              "#9c179e"
             ],
             [
              0.4444444444444444,
              "#bd3786"
             ],
             [
              0.5555555555555556,
              "#d8576b"
             ],
             [
              0.6666666666666666,
              "#ed7953"
             ],
             [
              0.7777777777777778,
              "#fb9f3a"
             ],
             [
              0.8888888888888888,
              "#fdca26"
             ],
             [
              1,
              "#f0f921"
             ]
            ],
            "type": "heatmapgl"
           }
          ],
          "histogram": [
           {
            "marker": {
             "colorbar": {
              "outlinewidth": 0,
              "ticks": ""
             }
            },
            "type": "histogram"
           }
          ],
          "histogram2d": [
           {
            "colorbar": {
             "outlinewidth": 0,
             "ticks": ""
            },
            "colorscale": [
             [
              0,
              "#0d0887"
             ],
             [
              0.1111111111111111,
              "#46039f"
             ],
             [
              0.2222222222222222,
              "#7201a8"
             ],
             [
              0.3333333333333333,
              "#9c179e"
             ],
             [
              0.4444444444444444,
              "#bd3786"
             ],
             [
              0.5555555555555556,
              "#d8576b"
             ],
             [
              0.6666666666666666,
              "#ed7953"
             ],
             [
              0.7777777777777778,
              "#fb9f3a"
             ],
             [
              0.8888888888888888,
              "#fdca26"
             ],
             [
              1,
              "#f0f921"
             ]
            ],
            "type": "histogram2d"
           }
          ],
          "histogram2dcontour": [
           {
            "colorbar": {
             "outlinewidth": 0,
             "ticks": ""
            },
            "colorscale": [
             [
              0,
              "#0d0887"
             ],
             [
              0.1111111111111111,
              "#46039f"
             ],
             [
              0.2222222222222222,
              "#7201a8"
             ],
             [
              0.3333333333333333,
              "#9c179e"
             ],
             [
              0.4444444444444444,
              "#bd3786"
             ],
             [
              0.5555555555555556,
              "#d8576b"
             ],
             [
              0.6666666666666666,
              "#ed7953"
             ],
             [
              0.7777777777777778,
              "#fb9f3a"
             ],
             [
              0.8888888888888888,
              "#fdca26"
             ],
             [
              1,
              "#f0f921"
             ]
            ],
            "type": "histogram2dcontour"
           }
          ],
          "mesh3d": [
           {
            "colorbar": {
             "outlinewidth": 0,
             "ticks": ""
            },
            "type": "mesh3d"
           }
          ],
          "parcoords": [
           {
            "line": {
             "colorbar": {
              "outlinewidth": 0,
              "ticks": ""
             }
            },
            "type": "parcoords"
           }
          ],
          "pie": [
           {
            "automargin": true,
            "type": "pie"
           }
          ],
          "scatter": [
           {
            "marker": {
             "colorbar": {
              "outlinewidth": 0,
              "ticks": ""
             }
            },
            "type": "scatter"
           }
          ],
          "scatter3d": [
           {
            "line": {
             "colorbar": {
              "outlinewidth": 0,
              "ticks": ""
             }
            },
            "marker": {
             "colorbar": {
              "outlinewidth": 0,
              "ticks": ""
             }
            },
            "type": "scatter3d"
           }
          ],
          "scattercarpet": [
           {
            "marker": {
             "colorbar": {
              "outlinewidth": 0,
              "ticks": ""
             }
            },
            "type": "scattercarpet"
           }
          ],
          "scattergeo": [
           {
            "marker": {
             "colorbar": {
              "outlinewidth": 0,
              "ticks": ""
             }
            },
            "type": "scattergeo"
           }
          ],
          "scattergl": [
           {
            "marker": {
             "colorbar": {
              "outlinewidth": 0,
              "ticks": ""
             }
            },
            "type": "scattergl"
           }
          ],
          "scattermapbox": [
           {
            "marker": {
             "colorbar": {
              "outlinewidth": 0,
              "ticks": ""
             }
            },
            "type": "scattermapbox"
           }
          ],
          "scatterpolar": [
           {
            "marker": {
             "colorbar": {
              "outlinewidth": 0,
              "ticks": ""
             }
            },
            "type": "scatterpolar"
           }
          ],
          "scatterpolargl": [
           {
            "marker": {
             "colorbar": {
              "outlinewidth": 0,
              "ticks": ""
             }
            },
            "type": "scatterpolargl"
           }
          ],
          "scatterternary": [
           {
            "marker": {
             "colorbar": {
              "outlinewidth": 0,
              "ticks": ""
             }
            },
            "type": "scatterternary"
           }
          ],
          "surface": [
           {
            "colorbar": {
             "outlinewidth": 0,
             "ticks": ""
            },
            "colorscale": [
             [
              0,
              "#0d0887"
             ],
             [
              0.1111111111111111,
              "#46039f"
             ],
             [
              0.2222222222222222,
              "#7201a8"
             ],
             [
              0.3333333333333333,
              "#9c179e"
             ],
             [
              0.4444444444444444,
              "#bd3786"
             ],
             [
              0.5555555555555556,
              "#d8576b"
             ],
             [
              0.6666666666666666,
              "#ed7953"
             ],
             [
              0.7777777777777778,
              "#fb9f3a"
             ],
             [
              0.8888888888888888,
              "#fdca26"
             ],
             [
              1,
              "#f0f921"
             ]
            ],
            "type": "surface"
           }
          ],
          "table": [
           {
            "cells": {
             "fill": {
              "color": "#EBF0F8"
             },
             "line": {
              "color": "white"
             }
            },
            "header": {
             "fill": {
              "color": "#C8D4E3"
             },
             "line": {
              "color": "white"
             }
            },
            "type": "table"
           }
          ]
         },
         "layout": {
          "annotationdefaults": {
           "arrowcolor": "#2a3f5f",
           "arrowhead": 0,
           "arrowwidth": 1
          },
          "coloraxis": {
           "colorbar": {
            "outlinewidth": 0,
            "ticks": ""
           }
          },
          "colorscale": {
           "diverging": [
            [
             0,
             "#8e0152"
            ],
            [
             0.1,
             "#c51b7d"
            ],
            [
             0.2,
             "#de77ae"
            ],
            [
             0.3,
             "#f1b6da"
            ],
            [
             0.4,
             "#fde0ef"
            ],
            [
             0.5,
             "#f7f7f7"
            ],
            [
             0.6,
             "#e6f5d0"
            ],
            [
             0.7,
             "#b8e186"
            ],
            [
             0.8,
             "#7fbc41"
            ],
            [
             0.9,
             "#4d9221"
            ],
            [
             1,
             "#276419"
            ]
           ],
           "sequential": [
            [
             0,
             "#0d0887"
            ],
            [
             0.1111111111111111,
             "#46039f"
            ],
            [
             0.2222222222222222,
             "#7201a8"
            ],
            [
             0.3333333333333333,
             "#9c179e"
            ],
            [
             0.4444444444444444,
             "#bd3786"
            ],
            [
             0.5555555555555556,
             "#d8576b"
            ],
            [
             0.6666666666666666,
             "#ed7953"
            ],
            [
             0.7777777777777778,
             "#fb9f3a"
            ],
            [
             0.8888888888888888,
             "#fdca26"
            ],
            [
             1,
             "#f0f921"
            ]
           ],
           "sequentialminus": [
            [
             0,
             "#0d0887"
            ],
            [
             0.1111111111111111,
             "#46039f"
            ],
            [
             0.2222222222222222,
             "#7201a8"
            ],
            [
             0.3333333333333333,
             "#9c179e"
            ],
            [
             0.4444444444444444,
             "#bd3786"
            ],
            [
             0.5555555555555556,
             "#d8576b"
            ],
            [
             0.6666666666666666,
             "#ed7953"
            ],
            [
             0.7777777777777778,
             "#fb9f3a"
            ],
            [
             0.8888888888888888,
             "#fdca26"
            ],
            [
             1,
             "#f0f921"
            ]
           ]
          },
          "colorway": [
           "#636efa",
           "#EF553B",
           "#00cc96",
           "#ab63fa",
           "#FFA15A",
           "#19d3f3",
           "#FF6692",
           "#B6E880",
           "#FF97FF",
           "#FECB52"
          ],
          "font": {
           "color": "#2a3f5f"
          },
          "geo": {
           "bgcolor": "white",
           "lakecolor": "white",
           "landcolor": "white",
           "showlakes": true,
           "showland": true,
           "subunitcolor": "#C8D4E3"
          },
          "hoverlabel": {
           "align": "left"
          },
          "hovermode": "closest",
          "mapbox": {
           "style": "light"
          },
          "paper_bgcolor": "white",
          "plot_bgcolor": "white",
          "polar": {
           "angularaxis": {
            "gridcolor": "#EBF0F8",
            "linecolor": "#EBF0F8",
            "ticks": ""
           },
           "bgcolor": "white",
           "radialaxis": {
            "gridcolor": "#EBF0F8",
            "linecolor": "#EBF0F8",
            "ticks": ""
           }
          },
          "scene": {
           "xaxis": {
            "backgroundcolor": "white",
            "gridcolor": "#DFE8F3",
            "gridwidth": 2,
            "linecolor": "#EBF0F8",
            "showbackground": true,
            "ticks": "",
            "zerolinecolor": "#EBF0F8"
           },
           "yaxis": {
            "backgroundcolor": "white",
            "gridcolor": "#DFE8F3",
            "gridwidth": 2,
            "linecolor": "#EBF0F8",
            "showbackground": true,
            "ticks": "",
            "zerolinecolor": "#EBF0F8"
           },
           "zaxis": {
            "backgroundcolor": "white",
            "gridcolor": "#DFE8F3",
            "gridwidth": 2,
            "linecolor": "#EBF0F8",
            "showbackground": true,
            "ticks": "",
            "zerolinecolor": "#EBF0F8"
           }
          },
          "shapedefaults": {
           "line": {
            "color": "#2a3f5f"
           }
          },
          "ternary": {
           "aaxis": {
            "gridcolor": "#DFE8F3",
            "linecolor": "#A2B1C6",
            "ticks": ""
           },
           "baxis": {
            "gridcolor": "#DFE8F3",
            "linecolor": "#A2B1C6",
            "ticks": ""
           },
           "bgcolor": "white",
           "caxis": {
            "gridcolor": "#DFE8F3",
            "linecolor": "#A2B1C6",
            "ticks": ""
           }
          },
          "title": {
           "x": 0.05
          },
          "xaxis": {
           "automargin": true,
           "gridcolor": "#EBF0F8",
           "linecolor": "#EBF0F8",
           "ticks": "",
           "title": {
            "standoff": 15
           },
           "zerolinecolor": "#EBF0F8",
           "zerolinewidth": 2
          },
          "yaxis": {
           "automargin": true,
           "gridcolor": "#EBF0F8",
           "linecolor": "#EBF0F8",
           "ticks": "",
           "title": {
            "standoff": 15
           },
           "zerolinecolor": "#EBF0F8",
           "zerolinewidth": 2
          }
         }
        },
        "title": {
         "text": "Innlogginger gjennom idporten pr. år"
        }
       }
      }
     },
     "metadata": {}
    }
   ],
   "source": [
    "import plotly.graph_objects as go\n",
    "import plotly.io as pio\n",
    "\n",
    "pio.templates.default = \"plotly_white\"\n",
    "\n",
    "fig = go.Figure(go.Bar(\n",
    "            y=data['sum'],\n",
    "            x=data['date_dt'],\n",
    "            orientation='v'),\n",
    "            )\n",
    "fig.update_layout(title_text='Innlogginger gjennom idporten pr. år')\n",
    "fig.show()\n",
    "\n",
    "# TODO Dato i label må vises med kun årsstall.\n",
    "# TODO: Pakkeinfo."
   ]
  },
  {
   "cell_type": "markdown",
   "metadata": {},
   "source": [
    "## Innlogginger idporten pr. måned  "
   ]
  },
  {
   "cell_type": "code",
   "execution_count": 9,
   "metadata": {},
   "outputs": [],
   "source": [
    "url = \"https://statistikk-utdata.difi.no/991825827/idporten-innlogging/hours/sum/months?from=2010-05-01T00:00:00Z&to=2020-08-31T23:59:59Z&categories=TE-orgnum=990983291\"\n",
    "source = pd.read_json(url)\n",
    "df = source.join(json_normalize(source['measurements']))\n",
    "df['date'] = df['timestamp'].dt.date\n",
    "df['date_dt'] = pd.to_datetime(df['date'])\n",
    "\n",
    "sum = 0\n",
    "for c in METODER_INNLOGGING:\n",
    "    sum += df[c]\n",
    "df['sum'] = sum\n",
    "\n",
    "url2 = \"https://statistikk-utdata.difi.no/991825827/idporten-innlogging/hours/sum/months?from=2010-05-01T00:00:00Z&to=2020-08-31T23:59:59Z&categories=TE-orgnum=889640782\"\n",
    "source2 = pd.read_json(url2)\n",
    "df2 = source2.join(json_normalize(source2['measurements']))\n",
    "df2['date'] = df2['timestamp'].dt.date\n",
    "df2['date_dt'] = pd.to_datetime(df2['date'])\n",
    "\n",
    "sum = 0\n",
    "for c in METODER_INNLOGGING:\n",
    "    sum += df2[c]\n",
    "df2['sum'] = sum\n",
    "\n",
    "df_begge = pd.merge(df,df2,on='date_dt', how='outer')\n",
    "df_begge.fillna(0, inplace=True)\n",
    "\n",
    "for c in METODER_INNLOGGING + ['sum']:\n",
    "    df_begge[c] = df_begge[c+\"_x\"] +  df_begge[c+\"_y\"]\n",
    "\n",
    "data = df_begge[['date_dt']+METODER_INNLOGGING+['sum'] ]\n",
    "\n",
    "#data.sort_values(by='date_dt')\n",
    "\n",
    "data\n",
    "\n",
    "data.to_csv(\"innlogginger_sum_mnd.csv\", sep=\";\",index=False)\n"
   ]
  },
  {
   "cell_type": "code",
   "execution_count": 10,
   "metadata": {},
   "outputs": [
    {
     "output_type": "display_data",
     "data": {
      "application/vnd.plotly.v1+json": {
       "config": {
        "plotlyServerURL": "https://plot.ly"
       },
       "data": [
        {
         "orientation": "v",
         "type": "bar",
         "x": [
          "2018-04-01T00:00:00",
          "2018-05-01T00:00:00",
          "2018-06-01T00:00:00",
          "2018-07-01T00:00:00",
          "2018-08-01T00:00:00",
          "2018-09-01T00:00:00",
          "2018-10-01T00:00:00",
          "2018-11-01T00:00:00",
          "2018-12-01T00:00:00",
          "2019-01-01T00:00:00",
          "2019-02-01T00:00:00",
          "2019-03-01T00:00:00",
          "2019-04-01T00:00:00",
          "2019-05-01T00:00:00",
          "2019-06-01T00:00:00",
          "2019-07-01T00:00:00",
          "2019-08-01T00:00:00",
          "2019-09-01T00:00:00",
          "2019-10-01T00:00:00",
          "2019-11-01T00:00:00",
          "2019-12-01T00:00:00",
          "2020-01-01T00:00:00",
          "2020-02-01T00:00:00",
          "2020-03-01T00:00:00",
          "2020-04-01T00:00:00",
          "2020-05-01T00:00:00",
          "2020-06-01T00:00:00",
          "2013-06-01T00:00:00",
          "2013-07-01T00:00:00",
          "2013-08-01T00:00:00",
          "2013-09-01T00:00:00",
          "2013-10-01T00:00:00",
          "2013-11-01T00:00:00",
          "2013-12-01T00:00:00",
          "2014-01-01T00:00:00",
          "2014-02-01T00:00:00",
          "2014-03-01T00:00:00",
          "2014-04-01T00:00:00",
          "2014-05-01T00:00:00",
          "2014-06-01T00:00:00",
          "2014-07-01T00:00:00",
          "2014-08-01T00:00:00",
          "2014-09-01T00:00:00",
          "2014-10-01T00:00:00",
          "2014-11-01T00:00:00",
          "2014-12-01T00:00:00",
          "2015-01-01T00:00:00",
          "2015-02-01T00:00:00",
          "2015-03-01T00:00:00",
          "2015-04-01T00:00:00",
          "2015-05-01T00:00:00",
          "2015-06-01T00:00:00",
          "2015-07-01T00:00:00",
          "2015-08-01T00:00:00",
          "2015-09-01T00:00:00",
          "2015-10-01T00:00:00",
          "2015-11-01T00:00:00",
          "2015-12-01T00:00:00",
          "2016-01-01T00:00:00",
          "2016-02-01T00:00:00",
          "2016-03-01T00:00:00",
          "2016-04-01T00:00:00",
          "2016-05-01T00:00:00",
          "2016-06-01T00:00:00",
          "2016-07-01T00:00:00",
          "2016-08-01T00:00:00",
          "2016-09-01T00:00:00",
          "2016-10-01T00:00:00",
          "2016-11-01T00:00:00",
          "2016-12-01T00:00:00",
          "2017-01-01T00:00:00",
          "2017-02-01T00:00:00",
          "2017-03-01T00:00:00",
          "2017-04-01T00:00:00",
          "2017-05-01T00:00:00",
          "2017-06-01T00:00:00",
          "2017-07-01T00:00:00",
          "2017-08-01T00:00:00",
          "2017-09-01T00:00:00",
          "2017-10-01T00:00:00",
          "2017-11-01T00:00:00",
          "2017-12-01T00:00:00",
          "2018-01-01T00:00:00",
          "2018-02-01T00:00:00",
          "2018-03-01T00:00:00",
          "2020-07-01T00:00:00",
          "2020-08-01T00:00:00"
         ],
         "y": [
          3246415,
          3009298,
          3388882,
          2538372,
          2936177,
          3062996,
          3316156,
          3221023,
          3132846,
          4199366,
          3349096,
          3586061,
          3337746,
          3581089,
          3402538,
          2695603,
          3072671,
          3273218,
          3513397,
          3652385,
          3581512,
          4360859,
          3718603,
          6782177,
          5980069,
          5524062,
          5331999,
          345,
          6180,
          2117,
          443485,
          567490,
          623292,
          955761,
          1230286,
          1134490,
          1340663,
          1071811,
          1213010,
          1252503,
          1078928,
          1203157,
          1266824,
          1278383,
          1301706,
          1411301,
          1710415,
          1405290,
          1609440,
          1408686,
          1632790,
          1671139,
          1351659,
          1606754,
          1713513,
          1713266,
          1723893,
          1660178,
          2079209,
          1923529,
          1947069,
          2096150,
          2154297,
          2341774,
          1725791,
          1948357,
          2108548,
          2259859,
          2312366,
          2318294,
          2874873,
          2426377,
          2785197,
          2447936,
          2821565,
          2799263,
          2237798,
          2446023,
          2484118,
          2713272,
          2674755,
          2693389,
          3809074,
          3050516,
          3120685,
          3746459,
          4193774
         ]
        }
       ],
       "layout": {
        "template": {
         "data": {
          "bar": [
           {
            "error_x": {
             "color": "#2a3f5f"
            },
            "error_y": {
             "color": "#2a3f5f"
            },
            "marker": {
             "line": {
              "color": "white",
              "width": 0.5
             }
            },
            "type": "bar"
           }
          ],
          "barpolar": [
           {
            "marker": {
             "line": {
              "color": "white",
              "width": 0.5
             }
            },
            "type": "barpolar"
           }
          ],
          "carpet": [
           {
            "aaxis": {
             "endlinecolor": "#2a3f5f",
             "gridcolor": "#C8D4E3",
             "linecolor": "#C8D4E3",
             "minorgridcolor": "#C8D4E3",
             "startlinecolor": "#2a3f5f"
            },
            "baxis": {
             "endlinecolor": "#2a3f5f",
             "gridcolor": "#C8D4E3",
             "linecolor": "#C8D4E3",
             "minorgridcolor": "#C8D4E3",
             "startlinecolor": "#2a3f5f"
            },
            "type": "carpet"
           }
          ],
          "choropleth": [
           {
            "colorbar": {
             "outlinewidth": 0,
             "ticks": ""
            },
            "type": "choropleth"
           }
          ],
          "contour": [
           {
            "colorbar": {
             "outlinewidth": 0,
             "ticks": ""
            },
            "colorscale": [
             [
              0,
              "#0d0887"
             ],
             [
              0.1111111111111111,
              "#46039f"
             ],
             [
              0.2222222222222222,
              "#7201a8"
             ],
             [
              0.3333333333333333,
              "#9c179e"
             ],
             [
              0.4444444444444444,
              "#bd3786"
             ],
             [
              0.5555555555555556,
              "#d8576b"
             ],
             [
              0.6666666666666666,
              "#ed7953"
             ],
             [
              0.7777777777777778,
              "#fb9f3a"
             ],
             [
              0.8888888888888888,
              "#fdca26"
             ],
             [
              1,
              "#f0f921"
             ]
            ],
            "type": "contour"
           }
          ],
          "contourcarpet": [
           {
            "colorbar": {
             "outlinewidth": 0,
             "ticks": ""
            },
            "type": "contourcarpet"
           }
          ],
          "heatmap": [
           {
            "colorbar": {
             "outlinewidth": 0,
             "ticks": ""
            },
            "colorscale": [
             [
              0,
              "#0d0887"
             ],
             [
              0.1111111111111111,
              "#46039f"
             ],
             [
              0.2222222222222222,
              "#7201a8"
             ],
             [
              0.3333333333333333,
              "#9c179e"
             ],
             [
              0.4444444444444444,
              "#bd3786"
             ],
             [
              0.5555555555555556,
              "#d8576b"
             ],
             [
              0.6666666666666666,
              "#ed7953"
             ],
             [
              0.7777777777777778,
              "#fb9f3a"
             ],
             [
              0.8888888888888888,
              "#fdca26"
             ],
             [
              1,
              "#f0f921"
             ]
            ],
            "type": "heatmap"
           }
          ],
          "heatmapgl": [
           {
            "colorbar": {
             "outlinewidth": 0,
             "ticks": ""
            },
            "colorscale": [
             [
              0,
              "#0d0887"
             ],
             [
              0.1111111111111111,
              "#46039f"
             ],
             [
              0.2222222222222222,
              "#7201a8"
             ],
             [
              0.3333333333333333,
              "#9c179e"
             ],
             [
              0.4444444444444444,
              "#bd3786"
             ],
             [
              0.5555555555555556,
              "#d8576b"
             ],
             [
              0.6666666666666666,
              "#ed7953"
             ],
             [
              0.7777777777777778,
              "#fb9f3a"
             ],
             [
              0.8888888888888888,
              "#fdca26"
             ],
             [
              1,
              "#f0f921"
             ]
            ],
            "type": "heatmapgl"
           }
          ],
          "histogram": [
           {
            "marker": {
             "colorbar": {
              "outlinewidth": 0,
              "ticks": ""
             }
            },
            "type": "histogram"
           }
          ],
          "histogram2d": [
           {
            "colorbar": {
             "outlinewidth": 0,
             "ticks": ""
            },
            "colorscale": [
             [
              0,
              "#0d0887"
             ],
             [
              0.1111111111111111,
              "#46039f"
             ],
             [
              0.2222222222222222,
              "#7201a8"
             ],
             [
              0.3333333333333333,
              "#9c179e"
             ],
             [
              0.4444444444444444,
              "#bd3786"
             ],
             [
              0.5555555555555556,
              "#d8576b"
             ],
             [
              0.6666666666666666,
              "#ed7953"
             ],
             [
              0.7777777777777778,
              "#fb9f3a"
             ],
             [
              0.8888888888888888,
              "#fdca26"
             ],
             [
              1,
              "#f0f921"
             ]
            ],
            "type": "histogram2d"
           }
          ],
          "histogram2dcontour": [
           {
            "colorbar": {
             "outlinewidth": 0,
             "ticks": ""
            },
            "colorscale": [
             [
              0,
              "#0d0887"
             ],
             [
              0.1111111111111111,
              "#46039f"
             ],
             [
              0.2222222222222222,
              "#7201a8"
             ],
             [
              0.3333333333333333,
              "#9c179e"
             ],
             [
              0.4444444444444444,
              "#bd3786"
             ],
             [
              0.5555555555555556,
              "#d8576b"
             ],
             [
              0.6666666666666666,
              "#ed7953"
             ],
             [
              0.7777777777777778,
              "#fb9f3a"
             ],
             [
              0.8888888888888888,
              "#fdca26"
             ],
             [
              1,
              "#f0f921"
             ]
            ],
            "type": "histogram2dcontour"
           }
          ],
          "mesh3d": [
           {
            "colorbar": {
             "outlinewidth": 0,
             "ticks": ""
            },
            "type": "mesh3d"
           }
          ],
          "parcoords": [
           {
            "line": {
             "colorbar": {
              "outlinewidth": 0,
              "ticks": ""
             }
            },
            "type": "parcoords"
           }
          ],
          "pie": [
           {
            "automargin": true,
            "type": "pie"
           }
          ],
          "scatter": [
           {
            "marker": {
             "colorbar": {
              "outlinewidth": 0,
              "ticks": ""
             }
            },
            "type": "scatter"
           }
          ],
          "scatter3d": [
           {
            "line": {
             "colorbar": {
              "outlinewidth": 0,
              "ticks": ""
             }
            },
            "marker": {
             "colorbar": {
              "outlinewidth": 0,
              "ticks": ""
             }
            },
            "type": "scatter3d"
           }
          ],
          "scattercarpet": [
           {
            "marker": {
             "colorbar": {
              "outlinewidth": 0,
              "ticks": ""
             }
            },
            "type": "scattercarpet"
           }
          ],
          "scattergeo": [
           {
            "marker": {
             "colorbar": {
              "outlinewidth": 0,
              "ticks": ""
             }
            },
            "type": "scattergeo"
           }
          ],
          "scattergl": [
           {
            "marker": {
             "colorbar": {
              "outlinewidth": 0,
              "ticks": ""
             }
            },
            "type": "scattergl"
           }
          ],
          "scattermapbox": [
           {
            "marker": {
             "colorbar": {
              "outlinewidth": 0,
              "ticks": ""
             }
            },
            "type": "scattermapbox"
           }
          ],
          "scatterpolar": [
           {
            "marker": {
             "colorbar": {
              "outlinewidth": 0,
              "ticks": ""
             }
            },
            "type": "scatterpolar"
           }
          ],
          "scatterpolargl": [
           {
            "marker": {
             "colorbar": {
              "outlinewidth": 0,
              "ticks": ""
             }
            },
            "type": "scatterpolargl"
           }
          ],
          "scatterternary": [
           {
            "marker": {
             "colorbar": {
              "outlinewidth": 0,
              "ticks": ""
             }
            },
            "type": "scatterternary"
           }
          ],
          "surface": [
           {
            "colorbar": {
             "outlinewidth": 0,
             "ticks": ""
            },
            "colorscale": [
             [
              0,
              "#0d0887"
             ],
             [
              0.1111111111111111,
              "#46039f"
             ],
             [
              0.2222222222222222,
              "#7201a8"
             ],
             [
              0.3333333333333333,
              "#9c179e"
             ],
             [
              0.4444444444444444,
              "#bd3786"
             ],
             [
              0.5555555555555556,
              "#d8576b"
             ],
             [
              0.6666666666666666,
              "#ed7953"
             ],
             [
              0.7777777777777778,
              "#fb9f3a"
             ],
             [
              0.8888888888888888,
              "#fdca26"
             ],
             [
              1,
              "#f0f921"
             ]
            ],
            "type": "surface"
           }
          ],
          "table": [
           {
            "cells": {
             "fill": {
              "color": "#EBF0F8"
             },
             "line": {
              "color": "white"
             }
            },
            "header": {
             "fill": {
              "color": "#C8D4E3"
             },
             "line": {
              "color": "white"
             }
            },
            "type": "table"
           }
          ]
         },
         "layout": {
          "annotationdefaults": {
           "arrowcolor": "#2a3f5f",
           "arrowhead": 0,
           "arrowwidth": 1
          },
          "coloraxis": {
           "colorbar": {
            "outlinewidth": 0,
            "ticks": ""
           }
          },
          "colorscale": {
           "diverging": [
            [
             0,
             "#8e0152"
            ],
            [
             0.1,
             "#c51b7d"
            ],
            [
             0.2,
             "#de77ae"
            ],
            [
             0.3,
             "#f1b6da"
            ],
            [
             0.4,
             "#fde0ef"
            ],
            [
             0.5,
             "#f7f7f7"
            ],
            [
             0.6,
             "#e6f5d0"
            ],
            [
             0.7,
             "#b8e186"
            ],
            [
             0.8,
             "#7fbc41"
            ],
            [
             0.9,
             "#4d9221"
            ],
            [
             1,
             "#276419"
            ]
           ],
           "sequential": [
            [
             0,
             "#0d0887"
            ],
            [
             0.1111111111111111,
             "#46039f"
            ],
            [
             0.2222222222222222,
             "#7201a8"
            ],
            [
             0.3333333333333333,
             "#9c179e"
            ],
            [
             0.4444444444444444,
             "#bd3786"
            ],
            [
             0.5555555555555556,
             "#d8576b"
            ],
            [
             0.6666666666666666,
             "#ed7953"
            ],
            [
             0.7777777777777778,
             "#fb9f3a"
            ],
            [
             0.8888888888888888,
             "#fdca26"
            ],
            [
             1,
             "#f0f921"
            ]
           ],
           "sequentialminus": [
            [
             0,
             "#0d0887"
            ],
            [
             0.1111111111111111,
             "#46039f"
            ],
            [
             0.2222222222222222,
             "#7201a8"
            ],
            [
             0.3333333333333333,
             "#9c179e"
            ],
            [
             0.4444444444444444,
             "#bd3786"
            ],
            [
             0.5555555555555556,
             "#d8576b"
            ],
            [
             0.6666666666666666,
             "#ed7953"
            ],
            [
             0.7777777777777778,
             "#fb9f3a"
            ],
            [
             0.8888888888888888,
             "#fdca26"
            ],
            [
             1,
             "#f0f921"
            ]
           ]
          },
          "colorway": [
           "#636efa",
           "#EF553B",
           "#00cc96",
           "#ab63fa",
           "#FFA15A",
           "#19d3f3",
           "#FF6692",
           "#B6E880",
           "#FF97FF",
           "#FECB52"
          ],
          "font": {
           "color": "#2a3f5f"
          },
          "geo": {
           "bgcolor": "white",
           "lakecolor": "white",
           "landcolor": "white",
           "showlakes": true,
           "showland": true,
           "subunitcolor": "#C8D4E3"
          },
          "hoverlabel": {
           "align": "left"
          },
          "hovermode": "closest",
          "mapbox": {
           "style": "light"
          },
          "paper_bgcolor": "white",
          "plot_bgcolor": "white",
          "polar": {
           "angularaxis": {
            "gridcolor": "#EBF0F8",
            "linecolor": "#EBF0F8",
            "ticks": ""
           },
           "bgcolor": "white",
           "radialaxis": {
            "gridcolor": "#EBF0F8",
            "linecolor": "#EBF0F8",
            "ticks": ""
           }
          },
          "scene": {
           "xaxis": {
            "backgroundcolor": "white",
            "gridcolor": "#DFE8F3",
            "gridwidth": 2,
            "linecolor": "#EBF0F8",
            "showbackground": true,
            "ticks": "",
            "zerolinecolor": "#EBF0F8"
           },
           "yaxis": {
            "backgroundcolor": "white",
            "gridcolor": "#DFE8F3",
            "gridwidth": 2,
            "linecolor": "#EBF0F8",
            "showbackground": true,
            "ticks": "",
            "zerolinecolor": "#EBF0F8"
           },
           "zaxis": {
            "backgroundcolor": "white",
            "gridcolor": "#DFE8F3",
            "gridwidth": 2,
            "linecolor": "#EBF0F8",
            "showbackground": true,
            "ticks": "",
            "zerolinecolor": "#EBF0F8"
           }
          },
          "shapedefaults": {
           "line": {
            "color": "#2a3f5f"
           }
          },
          "ternary": {
           "aaxis": {
            "gridcolor": "#DFE8F3",
            "linecolor": "#A2B1C6",
            "ticks": ""
           },
           "baxis": {
            "gridcolor": "#DFE8F3",
            "linecolor": "#A2B1C6",
            "ticks": ""
           },
           "bgcolor": "white",
           "caxis": {
            "gridcolor": "#DFE8F3",
            "linecolor": "#A2B1C6",
            "ticks": ""
           }
          },
          "title": {
           "x": 0.05
          },
          "xaxis": {
           "automargin": true,
           "gridcolor": "#EBF0F8",
           "linecolor": "#EBF0F8",
           "ticks": "",
           "title": {
            "standoff": 15
           },
           "zerolinecolor": "#EBF0F8",
           "zerolinewidth": 2
          },
          "yaxis": {
           "automargin": true,
           "gridcolor": "#EBF0F8",
           "linecolor": "#EBF0F8",
           "ticks": "",
           "title": {
            "standoff": 15
           },
           "zerolinecolor": "#EBF0F8",
           "zerolinewidth": 2
          }
         }
        },
        "title": {
         "text": "Innlogginger gjennom idporten pr. måned"
        }
       }
      }
     },
     "metadata": {}
    }
   ],
   "source": [
    "import plotly.graph_objects as go\n",
    "import plotly.io as pio\n",
    "\n",
    "pio.templates.default = \"plotly_white\"\n",
    "\n",
    "fig = go.Figure(go.Bar(\n",
    "            y=data['sum'],\n",
    "            x=data['date_dt'],\n",
    "            orientation='v'),\n",
    "            )\n",
    "fig.update_layout(title_text='Innlogginger gjennom idporten pr. måned')\n",
    "fig.show()\n"
   ]
  },
  {
   "cell_type": "code",
   "execution_count": null,
   "metadata": {},
   "outputs": [],
   "source": []
  }
 ],
 "metadata": {
  "language_info": {
   "codemirror_mode": {
    "name": "ipython",
    "version": 3
   },
   "file_extension": ".py",
   "mimetype": "text/x-python",
   "name": "python",
   "nbconvert_exporter": "python",
   "pygments_lexer": "ipython3",
   "version": "3.7.6-final"
  },
  "orig_nbformat": 2,
  "kernelspec": {
   "name": "python3",
   "display_name": "Python 3"
  }
 },
 "nbformat": 4,
 "nbformat_minor": 2
}